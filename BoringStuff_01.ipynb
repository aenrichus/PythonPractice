{
  "nbformat": 4,
  "nbformat_minor": 0,
  "metadata": {
    "colab": {
      "name": "BoringStuff_01.ipynb",
      "provenance": [],
      "collapsed_sections": [],
      "authorship_tag": "ABX9TyNfnisP78I6AvVtDer/uLCz",
      "include_colab_link": true
    },
    "kernelspec": {
      "name": "python3",
      "display_name": "Python 3"
    }
  },
  "cells": [
    {
      "cell_type": "markdown",
      "metadata": {
        "id": "view-in-github",
        "colab_type": "text"
      },
      "source": [
        "<a href=\"https://colab.research.google.com/github/aenrichus/PythonPractice/blob/master/BoringStuff_01.ipynb\" target=\"_parent\"><img src=\"https://colab.research.google.com/assets/colab-badge.svg\" alt=\"Open In Colab\"/></a>"
      ]
    },
    {
      "cell_type": "code",
      "metadata": {
        "id": "kf9g24eheoS_",
        "colab_type": "code",
        "outputId": "902bae48-e265-4655-df25-e02e2aa35419",
        "colab": {
          "base_uri": "https://localhost:8080/",
          "height": 34
        }
      },
      "source": [
        "2 + 2  # expression = values, operators\n",
        "(5 - 1) * ((7 + 1) / (3 - 1))  # precedence = order of operations\n",
        "'Alice' + 'Bob'  # string concatenation\n",
        "'Alice' * 5  # string replication\n",
        "spam = 30  # assignment: variable initialized (first time)\n",
        "spam = 40  # assignment: variable overwritten\n",
        "eggs = 2\n",
        "spam + eggs"
      ],
      "execution_count": 0,
      "outputs": [
        {
          "output_type": "execute_result",
          "data": {
            "text/plain": [
              "42"
            ]
          },
          "metadata": {
            "tags": []
          },
          "execution_count": 12
        }
      ]
    },
    {
      "cell_type": "code",
      "metadata": {
        "id": "9lgdnEnmjAdq",
        "colab_type": "code",
        "outputId": "72c8ff41-534c-4bdd-d2ec-a06200145cc0",
        "colab": {
          "base_uri": "https://localhost:8080/",
          "height": 170
        }
      },
      "source": [
        "# This program says hello and asks for my name.\n",
        "\n",
        "print('Hello, world!')\n",
        "print()  # inserts a blank line\n",
        "print('What is your name?')\n",
        "myName = input()  # input always returns a string\n",
        "print('Its good to meet you, ' + myName + '.')\n",
        "print('The length of your name is:')\n",
        "print(len(myName))\n",
        "print('What is your age?')\n",
        "myAge = input()\n",
        "print('You will be ' + str(int(myAge) + 1) + ' in a year.')"
      ],
      "execution_count": 0,
      "outputs": [
        {
          "output_type": "stream",
          "text": [
            "Hello, world!\n",
            "What is your name?\n",
            "Henry\n",
            "Its good to meet you, Henry.\n",
            "The length of your name is:\n",
            "5\n",
            "What is your age?\n",
            "35\n",
            "You will be 36 in a year.\n"
          ],
          "name": "stdout"
        }
      ]
    },
    {
      "cell_type": "code",
      "metadata": {
        "id": "TWW0dHhnkjqv",
        "colab_type": "code",
        "outputId": "4f36fe53-831f-4290-9ad6-97fbdec62d25",
        "colab": {
          "base_uri": "https://localhost:8080/",
          "height": 34
        }
      },
      "source": [
        "int(1.99)  # truncates\n",
        "float(10)  # adds a decimal\n",
        "42 == 42.0  # same\n",
        "42 == '42'  # not same"
      ],
      "execution_count": 0,
      "outputs": [
        {
          "output_type": "execute_result",
          "data": {
            "text/plain": [
              "False"
            ]
          },
          "metadata": {
            "tags": []
          },
          "execution_count": 15
        }
      ]
    }
  ]
}